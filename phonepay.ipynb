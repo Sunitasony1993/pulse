{
 "cells": [
  {
   "cell_type": "code",
   "execution_count": 1,
   "metadata": {},
   "outputs": [
    {
     "ename": "ModuleNotFoundError",
     "evalue": "No module named 'pandas'",
     "output_type": "error",
     "traceback": [
      "\u001b[1;31m---------------------------------------------------------------------------\u001b[0m",
      "\u001b[1;31mModuleNotFoundError\u001b[0m                       Traceback (most recent call last)",
      "\u001b[1;32mc:\\Users\\intel\\Desktop\\phonepay\\pulse\\phonepay.ipynb Cell 1\u001b[0m line \u001b[0;36m3\n\u001b[0;32m      <a href='vscode-notebook-cell:/c%3A/Users/intel/Desktop/phonepay/pulse/phonepay.ipynb#W0sZmlsZQ%3D%3D?line=0'>1</a>\u001b[0m \u001b[39mimport\u001b[39;00m \u001b[39mos\u001b[39;00m\n\u001b[0;32m      <a href='vscode-notebook-cell:/c%3A/Users/intel/Desktop/phonepay/pulse/phonepay.ipynb#W0sZmlsZQ%3D%3D?line=1'>2</a>\u001b[0m \u001b[39mimport\u001b[39;00m \u001b[39mjson\u001b[39;00m\n\u001b[1;32m----> <a href='vscode-notebook-cell:/c%3A/Users/intel/Desktop/phonepay/pulse/phonepay.ipynb#W0sZmlsZQ%3D%3D?line=2'>3</a>\u001b[0m \u001b[39mimport\u001b[39;00m \u001b[39mpandas\u001b[39;00m \u001b[39mas\u001b[39;00m \u001b[39mpd\u001b[39;00m\n",
      "\u001b[1;31mModuleNotFoundError\u001b[0m: No module named 'pandas'"
     ]
    }
   ],
   "source": [
    "import os\n",
    "import json\n",
    "import pandas as pd"
   ]
  },
  {
   "cell_type": "code",
   "execution_count": 37,
   "metadata": {},
   "outputs": [],
   "source": [
    "#aggre_function\n",
    "path1=\"C:/Users/intel/Desktop/phonepay/pulse/data/aggregated/transaction/country/india/state/\"\n",
    "agg_trans_list= os.listdir(path1)\n",
    "columns1={\"states\":[], \"years\":[],\"quarter\":[],\"Transaction-type\":[],\"Transaction-count\":[],\"Transaction-amount\":[]}\n",
    "\n",
    "for state in agg_trans_list:\n",
    "    cur_states=path1+state+\"/\"\n",
    "    agg_year_list=os.listdir(cur_states)\n",
    "    \n",
    "    for year in agg_year_list:\n",
    "       cur_year=cur_states+year+\"/\" \n",
    "       agg_file_list=os.listdir(cur_year)\n",
    "\n",
    "       for file in agg_file_list:\n",
    "           cur_file=cur_year+file\n",
    "           data=open(cur_file,\"r\")\n",
    "           A=json.load(data)\n",
    "           for i in A['data']['transactionData']:\n",
    "            print(i)\n",
    "            name=i['name']\n",
    "            print(name)\n",
    "            count=i['paymentInstruments'][0]['count']\n",
    "            amount=i['paymentInstruments'][0]['amount']\n",
    "            columns1['Transaction-type'].append(name)\n",
    "            columns1['Transaction-count'].append(count)\n",
    "            columns1['states'].append(state)\n",
    "            columns1['years'].append(year)\n",
    "            columns1['quarter'].append(int(file.strip(\".json\")))\n"
   ]
  },
  {
   "cell_type": "code",
   "execution_count": 45,
   "metadata": {},
   "outputs": [
    {
     "name": "stdout",
     "output_type": "stream",
     "text": [
      "{'name': 'Merchant payments', 'paymentInstruments': [{'type': 'TOTAL', 'count': 296965002, 'amount': 200440391406.0}]}\n",
      "Merchant payments\n",
      "{'name': 'Peer-to-peer payments', 'paymentInstruments': [{'type': 'TOTAL', 'count': 271150280, 'amount': 831050092805.0}]}\n",
      "Peer-to-peer payments\n",
      "{'name': 'Recharge & bill payments', 'paymentInstruments': [{'type': 'TOTAL', 'count': 63055684, 'amount': 39209851435.0}]}\n",
      "Recharge & bill payments\n",
      "{'name': 'Financial Services', 'paymentInstruments': [{'type': 'TOTAL', 'count': 389751, 'amount': 424985591.0}]}\n",
      "Financial Services\n",
      "{'name': 'Others', 'paymentInstruments': [{'type': 'TOTAL', 'count': 532474, 'amount': 423285145.0}]}\n",
      "Others\n"
     ]
    }
   ],
   "source": [
    "for i in A['data']['transactionData']:\n",
    "    print(i)\n",
    "    name=i['name']\n",
    "    print(name)\n",
    "    count=i['paymentInstruments'][0]['count']\n",
    "    amount=i['paymentInstruments'][0]['amount']\n",
    "    columns1['Transaction-type'].append(name)\n",
    "    columns1['Transaction-count'].append(count)\n",
    "    columns1['states'].append(state)\n",
    "    columns1['years'].append(year)\n",
    "    columns1['quarter'].append(int(file.strip(\".json\")))"
   ]
  },
  {
   "cell_type": "code",
   "execution_count": 3,
   "metadata": {},
   "outputs": [
    {
     "ename": "NameError",
     "evalue": "name 'pd' is not defined",
     "output_type": "error",
     "traceback": [
      "\u001b[1;31m---------------------------------------------------------------------------\u001b[0m",
      "\u001b[1;31mNameError\u001b[0m                                 Traceback (most recent call last)",
      "\u001b[1;32mc:\\Users\\intel\\Desktop\\phonepay\\pulse\\phonepay.ipynb Cell 4\u001b[0m line \u001b[0;36m1\n\u001b[1;32m----> <a href='vscode-notebook-cell:/c%3A/Users/intel/Desktop/phonepay/pulse/phonepay.ipynb#W3sZmlsZQ%3D%3D?line=0'>1</a>\u001b[0m aggre_transaction\u001b[39m=\u001b[39mpd\u001b[39m.\u001b[39mDataFrame(columns1)\n",
      "\u001b[1;31mNameError\u001b[0m: name 'pd' is not defined"
     ]
    }
   ],
   "source": [
    "aggre_transaction=pd.DataFrame(columns1)"
   ]
  }
 ],
 "metadata": {
  "kernelspec": {
   "display_name": "Python 3",
   "language": "python",
   "name": "python3"
  },
  "language_info": {
   "codemirror_mode": {
    "name": "ipython",
    "version": 3
   },
   "file_extension": ".py",
   "mimetype": "text/x-python",
   "name": "python",
   "nbconvert_exporter": "python",
   "pygments_lexer": "ipython3",
   "version": "3.12.0"
  }
 },
 "nbformat": 4,
 "nbformat_minor": 2
}
